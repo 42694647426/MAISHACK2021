{
 "cells": [
  {
   "cell_type": "code",
   "execution_count": 2,
   "id": "b9f54793",
   "metadata": {},
   "outputs": [
    {
     "ename": "ImportError",
     "evalue": "DLL load failed: The specified module could not be found.",
     "output_type": "error",
     "traceback": [
      "\u001b[1;31m---------------------------------------------------------------------------\u001b[0m",
      "\u001b[1;31mImportError\u001b[0m                               Traceback (most recent call last)",
      "\u001b[1;32m~\\AppData\\Local\\Temp/ipykernel_7676/3647995867.py\u001b[0m in \u001b[0;36m<module>\u001b[1;34m\u001b[0m\n\u001b[0;32m      3\u001b[0m \u001b[1;32mimport\u001b[0m \u001b[0mmatplotlib\u001b[0m\u001b[1;33m.\u001b[0m\u001b[0mpyplot\u001b[0m \u001b[1;32mas\u001b[0m \u001b[0mplt\u001b[0m \u001b[1;31m# plotting and data visualization\u001b[0m\u001b[1;33m\u001b[0m\u001b[1;33m\u001b[0m\u001b[0m\n\u001b[0;32m      4\u001b[0m \u001b[1;32mimport\u001b[0m \u001b[0mmatplotlib\u001b[0m\u001b[1;33m.\u001b[0m\u001b[0mimage\u001b[0m \u001b[1;32mas\u001b[0m \u001b[0mmpimg\u001b[0m\u001b[1;33m\u001b[0m\u001b[1;33m\u001b[0m\u001b[0m\n\u001b[1;32m----> 5\u001b[1;33m \u001b[1;32mfrom\u001b[0m \u001b[0mimutils\u001b[0m \u001b[1;32mimport\u001b[0m \u001b[0mresize\u001b[0m\u001b[1;33m,\u001b[0m \u001b[0mpaths\u001b[0m \u001b[1;31m# simple image manipulation\u001b[0m\u001b[1;33m\u001b[0m\u001b[1;33m\u001b[0m\u001b[0m\n\u001b[0m\u001b[0;32m      6\u001b[0m \u001b[1;32mfrom\u001b[0m \u001b[0msklearn\u001b[0m\u001b[1;33m.\u001b[0m\u001b[0mensemble\u001b[0m \u001b[1;32mimport\u001b[0m \u001b[0mRandomForestClassifier\u001b[0m \u001b[1;31m# machine learning and analysis\u001b[0m\u001b[1;33m\u001b[0m\u001b[1;33m\u001b[0m\u001b[0m\n\u001b[0;32m      7\u001b[0m \u001b[1;32mfrom\u001b[0m \u001b[0msklearn\u001b[0m\u001b[1;33m.\u001b[0m\u001b[0mpreprocessing\u001b[0m \u001b[1;32mimport\u001b[0m \u001b[0mLabelEncoder\u001b[0m\u001b[1;33m\u001b[0m\u001b[1;33m\u001b[0m\u001b[0m\n",
      "\u001b[1;32m~\\.conda\\envs\\tensorflow-gpu\\lib\\site-packages\\imutils\\__init__.py\u001b[0m in \u001b[0;36m<module>\u001b[1;34m\u001b[0m\n\u001b[0;32m      6\u001b[0m \u001b[1;33m\u001b[0m\u001b[0m\n\u001b[0;32m      7\u001b[0m \u001b[1;31m# import the necessary packages\u001b[0m\u001b[1;33m\u001b[0m\u001b[1;33m\u001b[0m\u001b[1;33m\u001b[0m\u001b[0m\n\u001b[1;32m----> 8\u001b[1;33m \u001b[1;32mfrom\u001b[0m \u001b[1;33m.\u001b[0m\u001b[0mconvenience\u001b[0m \u001b[1;32mimport\u001b[0m \u001b[0mtranslate\u001b[0m\u001b[1;33m\u001b[0m\u001b[1;33m\u001b[0m\u001b[0m\n\u001b[0m\u001b[0;32m      9\u001b[0m \u001b[1;32mfrom\u001b[0m \u001b[1;33m.\u001b[0m\u001b[0mconvenience\u001b[0m \u001b[1;32mimport\u001b[0m \u001b[0mrotate\u001b[0m\u001b[1;33m\u001b[0m\u001b[1;33m\u001b[0m\u001b[0m\n\u001b[0;32m     10\u001b[0m \u001b[1;32mfrom\u001b[0m \u001b[1;33m.\u001b[0m\u001b[0mconvenience\u001b[0m \u001b[1;32mimport\u001b[0m \u001b[0mrotate_bound\u001b[0m\u001b[1;33m\u001b[0m\u001b[1;33m\u001b[0m\u001b[0m\n",
      "\u001b[1;32m~\\.conda\\envs\\tensorflow-gpu\\lib\\site-packages\\imutils\\convenience.py\u001b[0m in \u001b[0;36m<module>\u001b[1;34m\u001b[0m\n\u001b[0;32m      4\u001b[0m \u001b[1;31m# import the necessary packages\u001b[0m\u001b[1;33m\u001b[0m\u001b[1;33m\u001b[0m\u001b[1;33m\u001b[0m\u001b[0m\n\u001b[0;32m      5\u001b[0m \u001b[1;32mimport\u001b[0m \u001b[0mnumpy\u001b[0m \u001b[1;32mas\u001b[0m \u001b[0mnp\u001b[0m\u001b[1;33m\u001b[0m\u001b[1;33m\u001b[0m\u001b[0m\n\u001b[1;32m----> 6\u001b[1;33m \u001b[1;32mimport\u001b[0m \u001b[0mcv2\u001b[0m\u001b[1;33m\u001b[0m\u001b[1;33m\u001b[0m\u001b[0m\n\u001b[0m\u001b[0;32m      7\u001b[0m \u001b[1;32mimport\u001b[0m \u001b[0msys\u001b[0m\u001b[1;33m\u001b[0m\u001b[1;33m\u001b[0m\u001b[0m\n\u001b[0;32m      8\u001b[0m \u001b[1;33m\u001b[0m\u001b[0m\n",
      "\u001b[1;31mImportError\u001b[0m: DLL load failed: The specified module could not be found."
     ]
    }
   ],
   "source": [
    "# Install necessary libraries\n",
    "import sys \n",
    "import matplotlib.pyplot as plt # plotting and data visualization\n",
    "import matplotlib.image as mpimg\n",
    "from imutils import resize, paths # simple image manipulation \n",
    "from sklearn.ensemble import RandomForestClassifier # machine learning and analysis\n",
    "from sklearn.preprocessing import LabelEncoder\n",
    "from sklearn.metrics import classification_report\n",
    "from sklearn.metrics import plot_confusion_matrix\n",
    "from sklearn.model_selection import train_test_split\n",
    "import pandas as pd\n",
    "import numpy as np\n",
    "from imutils import resize, paths # simple image manipulation\n",
    "import cv2  # image analysis "
   ]
  },
  {
   "cell_type": "code",
   "execution_count": null,
   "id": "f690c001",
   "metadata": {},
   "outputs": [],
   "source": [
    "# define the training directory with the images \n",
    "train_data_dir  = \"../small_dataset/\""
   ]
  },
  {
   "cell_type": "code",
   "execution_count": null,
   "id": "defeb014",
   "metadata": {},
   "outputs": [],
   "source": [
    "# sort the image paths so that they are matched with the correct label\n",
    "imagePaths = sorted(list(paths.list_images(train_data_dir)))"
   ]
  },
  {
   "cell_type": "code",
   "execution_count": null,
   "id": "0c485740",
   "metadata": {},
   "outputs": [],
   "source": [
    "# do a bit of data science \n",
    "import pandas as pd \n",
    "import os\n",
    "\n",
    "classnames = []\n",
    "num_files = 0\n",
    "distributions = {}\n",
    "\n",
    "# loop through the directories and save the number of files of each type \n",
    "for subdir, dirs, files in os.walk(train_data_dir):\n",
    "    directory = subdir.split(\"/\")\n",
    "    classname = directory[-1]\n",
    "    classnames.append(classname)\n",
    "\n",
    "    for file in files:\n",
    "        num_files+=1\n",
    "        #print(os.path.join(subdir, file))\n",
    "        #print(subdir)\n",
    "        #print(file)\n",
    "    \n",
    "    distributions[classname] = num_files\n",
    "    num_files = 0\n",
    "    \n",
    "                  \n",
    "distributions.pop(\"\")\n",
    "print(classnames)\n",
    "print(len(classnames))\n",
    "print(distributions)"
   ]
  },
  {
   "cell_type": "code",
   "execution_count": null,
   "id": "f6e6ac1a",
   "metadata": {},
   "outputs": [],
   "source": [
    "# Create a class for constructing our image descriptor. We will pass this descriptor to our classification model.\n",
    "\n",
    "class RGBHist:\n",
    "    def __init__(self, bins):\n",
    "        # specify the number of bins that we will need to build the histogram\n",
    "        self.bins = bins\n",
    "\n",
    "    def describe(self, image):\n",
    "        # compute a 3D histogram for each image using the 3 color spaces (R, G, B)\n",
    "        # in the image. Normalize the histogram to accomodate multiple image\n",
    "        # sizes if that is the case.\n",
    "        histogram = cv2.calcHist([image], [0, 1, 2], None, self.bins, [0, 256, 0, 256, 0, 256])\n",
    "        cv2.normalize(histogram, histogram)\n",
    "\n",
    "        # return out 3D histogram as a flattened array\n",
    "        return histogram.flatten()"
   ]
  },
  {
   "cell_type": "code",
   "execution_count": null,
   "id": "7073edd5",
   "metadata": {},
   "outputs": [],
   "source": [
    "# initialize the image descriptor\n",
    "desc = RGBHist([8, 8, 8])"
   ]
  },
  {
   "cell_type": "code",
   "execution_count": null,
   "id": "65b83d82",
   "metadata": {},
   "outputs": [],
   "source": [
    "# Function to help construct our training matrix\n",
    "def create_training_data(trainingImgsPath, trainingLablsPath, descriptor):\n",
    "    # create an empty list to store the images and labels\n",
    "    trainingfeatures = []\n",
    "\n",
    "    # sort the image paths so that they are matched with the correct label\n",
    "    imagePaths = sorted(list(paths.list_images(trainingImgsPath)))\n",
    "\n",
    "    # loop through the images and load them to disk\n",
    "    for image in imagePaths:\n",
    "        \n",
    "            img = cv2.imread(image)\n",
    "\n",
    "            # convert the image from BGR to RGB format (opencv's default is BGR)\n",
    "            img = cv2.cvtColor(img, cv2.COLOR_BGR2RGB)\n",
    "\n",
    "            if descriptor:\n",
    "                # describe the image and update the list of features\n",
    "                features = descriptor.describe(img)\n",
    "                trainingfeatures.append(features)\n",
    "            else: \n",
    "                # if there is no descriptor then return the loaded image only and resize the image to half width/height \n",
    "                img = resize(img, width=150)\n",
    "                trainingfeatures.append(img)\n",
    "\n",
    "    \n",
    "    \n",
    "    # load the training labels and only keep the 1st category\n",
    "    trainingLabels = pd.read_csv(trainingLablsPath)\n",
    "    trainingLabels = trainingLabels[[\"healthy\"]].to_numpy().astype(\"uint8\")\n",
    "\n",
    "    return (trainingfeatures, trainingLabels)"
   ]
  },
  {
   "cell_type": "code",
   "execution_count": null,
   "id": "0aa5379a",
   "metadata": {},
   "outputs": [],
   "source": [
    "# change string label(s) to numerial classes\n",
    "def encode_label(binarizer, label):\n",
    "    \n",
    "    \"\"\" Parameters\n",
    "        ----------\n",
    "        binarizer (OBJECT): label binarizer object\n",
    "        label (STRING) : classname \n",
    "        \n",
    "        Returns\n",
    "        -------\n",
    "        label (INT)\n",
    "    \"\"\"\n",
    "    label = binarizer.transform(label)\n",
    "    return label\n",
    "\n",
    "\n",
    "# create a label binarizer object\n",
    "def create_binarizer(labels):\n",
    "    \n",
    "    lb = LabelEncoder()\n",
    "    lb.fit(list(labels))\n",
    "    return lb"
   ]
  }
 ],
 "metadata": {
  "kernelspec": {
   "display_name": "Python [conda env:.conda-tensorflow-gpu] *",
   "language": "python",
   "name": "conda-env-.conda-tensorflow-gpu-py"
  },
  "language_info": {
   "codemirror_mode": {
    "name": "ipython",
    "version": 3
   },
   "file_extension": ".py",
   "mimetype": "text/x-python",
   "name": "python",
   "nbconvert_exporter": "python",
   "pygments_lexer": "ipython3",
   "version": "3.7.11"
  }
 },
 "nbformat": 4,
 "nbformat_minor": 5
}
